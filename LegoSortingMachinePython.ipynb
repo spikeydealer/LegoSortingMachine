{
 "cells": [
  {
   "cell_type": "code",
   "execution_count": 3,
   "id": "6dce5b4e-2cbf-4702-b9e6-8bf94c046c7f",
   "metadata": {},
   "outputs": [],
   "source": [
    "import requests\n",
    "import json\n",
    "import time\n",
    "import cv2\n",
    "import serial\n",
    "import datetime"
   ]
  },
  {
   "cell_type": "code",
   "execution_count": 4,
   "id": "25274b90-548a-4bf6-ace3-517e969da6d2",
   "metadata": {},
   "outputs": [],
   "source": [
    "# Function to capture a webcam image\n",
    "def capture_image():\n",
    "    # Open the default webcam\n",
    "    cap = cv2.VideoCapture('/dev/video2')\n",
    "    time.sleep(2)\n",
    "    # Capture a single frame\n",
    "    for _ in range(10): cap.read()  # Autoexposure adjustment\n",
    "    ret, frame = cap.read()\n",
    "    if ret:\n",
    "        cv2.imwrite(\"py_webcam_capture.jpg\", frame)\n",
    "        print(\"Image captured successfully\")\n",
    "    else:\n",
    "        print(\"Failed to capture image\")\n",
    "\n",
    "    # Release the webcam\n",
    "    cap.release()\n",
    "    return frame\n"
   ]
  },
  {
   "cell_type": "code",
   "execution_count": 5,
   "id": "b4494833-2bb0-4807-93eb-0c226bd1ee08",
   "metadata": {},
   "outputs": [],
   "source": [
    "\n",
    "def process_image(image):\n",
    "# Send image to API and get response\n",
    "    url = 'https://api.brickognize.com/predict/parts/'\n",
    "    payload={}\n",
    "    files = [\n",
    "        ('query_image',\n",
    "     ('py_webcam_capture.jpg',open(r'py_webcam_capture.jpg', 'rb'), 'image/jpeg'))\n",
    "    ]\n",
    "    response = requests.request(\"POST\", url, data=payload, files=files)\n",
    "\n",
    "    # Parse the API response\n",
    "    result = json.loads(response.text)\n",
    "    return result"
   ]
  },
  {
   "cell_type": "code",
   "execution_count": 6,
   "id": "1bad97fa-9c77-4011-91a9-99c1927d8e65",
   "metadata": {},
   "outputs": [],
   "source": [
    "def send_name(name):\n",
    "\n",
    "\n",
    "        # Determine the category number to send to Arduino\n",
    "        position_number = \"0\"\n",
    "        if name.startswith('Brick 1'):\n",
    "            position_number = \"0\"\n",
    "        elif name.startswith('Brick 2'):\n",
    "            position_number = \"30\"\n",
    "        elif name.startswith('Plate 1'):\n",
    "            position_number = \"60\"\n",
    "        elif name.startswith('Plate 2'):\n",
    "            position_number = \"90\"\n",
    "        elif name.startswith('Slope'):\n",
    "            position_number = \"120\"\n",
    "        elif name.startswith('Technic'):\n",
    "            position_number = \"150\"\n",
    "        else :\n",
    "            position_number = \"105\"\n",
    "\n",
    "        ser.write(position_number.encode())\n",
    "        ser.write('>'.encode())\n",
    "\n",
    "        return "
   ]
  },
  {
   "cell_type": "code",
   "execution_count": 7,
   "id": "153bcb6f-3778-4b93-a7e3-029f459b7910",
   "metadata": {},
   "outputs": [],
   "source": [
    "# Function to check if the serial port is open\n",
    "def is_serial_open(port):\n",
    "    try:\n",
    "        ser = serial.Serial(port)\n",
    "        ser.close()\n",
    "        return True\n",
    "    except serial.SerialException:\n",
    "        return False"
   ]
  },
  {
   "cell_type": "code",
   "execution_count": 9,
   "id": "b9816789-7117-4e8b-b3ae-1b0ad7437e46",
   "metadata": {
    "scrolled": true
   },
   "outputs": [
    {
     "name": "stdin",
     "output_type": "stream",
     "text": [
      "Enter text to start machine\n",
      " start\n"
     ]
    },
    {
     "name": "stdout",
     "output_type": "stream",
     "text": [
      "Recieved Enter text to start\n",
      "Recieved ........Setup Complete\n",
      "Recieved Object detected!\n",
      "Lego Detected!\n"
     ]
    },
    {
     "name": "stderr",
     "output_type": "stream",
     "text": [
      "[ WARN:0@802.781] global cap_gstreamer.cpp:2838 handleMessage OpenCV | GStreamer warning: Embedded video playback halted; module source reported: Could not read from resource.\n",
      "[ WARN:0@802.781] global cap_gstreamer.cpp:1698 open OpenCV | GStreamer warning: unable to start pipeline\n",
      "[ WARN:0@802.781] global cap_gstreamer.cpp:1173 isPipelinePlaying OpenCV | GStreamer warning: GStreamer: pipeline have not been created\n"
     ]
    },
    {
     "name": "stdout",
     "output_type": "stream",
     "text": [
      "Image captured successfully\n",
      "Hinge Plate 2 x 4 with Pin Hole and 3 Holes - Top\n",
      "Hinge\n",
      "Recieved Moving Servo to ... 105\n",
      "Recieved Object detected!\n",
      "Lego Detected!\n"
     ]
    },
    {
     "name": "stderr",
     "output_type": "stream",
     "text": [
      "[ WARN:0@818.316] global cap_gstreamer.cpp:2838 handleMessage OpenCV | GStreamer warning: Embedded video playback halted; module source reported: Could not read from resource.\n",
      "[ WARN:0@818.317] global cap_gstreamer.cpp:1698 open OpenCV | GStreamer warning: unable to start pipeline\n",
      "[ WARN:0@818.318] global cap_gstreamer.cpp:1173 isPipelinePlaying OpenCV | GStreamer warning: GStreamer: pipeline have not been created\n"
     ]
    },
    {
     "name": "stdout",
     "output_type": "stream",
     "text": [
      "Image captured successfully\n",
      "Tire 30 x 10.5 Offset Tread - Band Around Center of Tread\n",
      "Wheel, Tire & Tread\n",
      "Recieved Moving Servo to ... 105\n",
      "Recieved Object detected!\n",
      "Lego Detected!\n"
     ]
    },
    {
     "name": "stderr",
     "output_type": "stream",
     "text": [
      "[ WARN:0@825.836] global cap_gstreamer.cpp:2838 handleMessage OpenCV | GStreamer warning: Embedded video playback halted; module source reported: Could not read from resource.\n",
      "[ WARN:0@825.836] global cap_gstreamer.cpp:1698 open OpenCV | GStreamer warning: unable to start pipeline\n",
      "[ WARN:0@825.836] global cap_gstreamer.cpp:1173 isPipelinePlaying OpenCV | GStreamer warning: GStreamer: pipeline have not been created\n"
     ]
    },
    {
     "name": "stdout",
     "output_type": "stream",
     "text": [
      "Image captured successfully\n",
      "Wedge 3 x 2 Right with 8 White Stripes on Red Background Pattern (Sticker) - Set 2556\n",
      "Wedge, Decorated\n",
      "Recieved Moving Servo to ... 105\n",
      "Recieved Object detected!\n",
      "Lego Detected!\n"
     ]
    },
    {
     "name": "stderr",
     "output_type": "stream",
     "text": [
      "[ WARN:0@836.357] global cap_gstreamer.cpp:2838 handleMessage OpenCV | GStreamer warning: Embedded video playback halted; module source reported: Could not read from resource.\n",
      "[ WARN:0@836.358] global cap_gstreamer.cpp:1698 open OpenCV | GStreamer warning: unable to start pipeline\n",
      "[ WARN:0@836.358] global cap_gstreamer.cpp:1173 isPipelinePlaying OpenCV | GStreamer warning: GStreamer: pipeline have not been created\n"
     ]
    },
    {
     "name": "stdout",
     "output_type": "stream",
     "text": [
      "Image captured successfully\n",
      "Brick 1 x 8\n",
      "Brick\n",
      "Recieved Moving Servo to ... 0\n",
      "Recieved Object detected!\n",
      "Lego Detected!\n"
     ]
    },
    {
     "name": "stderr",
     "output_type": "stream",
     "text": [
      "[ WARN:0@843.377] global cap_gstreamer.cpp:2838 handleMessage OpenCV | GStreamer warning: Embedded video playback halted; module source reported: Could not read from resource.\n",
      "[ WARN:0@843.378] global cap_gstreamer.cpp:1698 open OpenCV | GStreamer warning: unable to start pipeline\n",
      "[ WARN:0@843.378] global cap_gstreamer.cpp:1173 isPipelinePlaying OpenCV | GStreamer warning: GStreamer: pipeline have not been created\n"
     ]
    },
    {
     "name": "stdout",
     "output_type": "stream",
     "text": [
      "Image captured successfully\n",
      "Brick 2 x 2 Corner\n",
      "Brick\n",
      "Recieved Moving Servo to ... 30\n",
      "Recieved Object detected!\n",
      "Lego Detected!\n"
     ]
    },
    {
     "name": "stderr",
     "output_type": "stream",
     "text": [
      "[ WARN:0@865.934] global cap_gstreamer.cpp:2838 handleMessage OpenCV | GStreamer warning: Embedded video playback halted; module source reported: Could not read from resource.\n",
      "[ WARN:0@865.934] global cap_gstreamer.cpp:1698 open OpenCV | GStreamer warning: unable to start pipeline\n",
      "[ WARN:0@865.934] global cap_gstreamer.cpp:1173 isPipelinePlaying OpenCV | GStreamer warning: GStreamer: pipeline have not been created\n"
     ]
    },
    {
     "name": "stdout",
     "output_type": "stream",
     "text": [
      "Image captured successfully\n",
      "Brick 1 x 4\n",
      "Brick\n",
      "Recieved Moving Servo to ... 0\n",
      "Recieved Object detected!\n",
      "Lego Detected!\n"
     ]
    },
    {
     "name": "stderr",
     "output_type": "stream",
     "text": [
      "[ WARN:0@879.465] global cap_gstreamer.cpp:2838 handleMessage OpenCV | GStreamer warning: Embedded video playback halted; module source reported: Could not read from resource.\n",
      "[ WARN:0@879.466] global cap_gstreamer.cpp:1698 open OpenCV | GStreamer warning: unable to start pipeline\n",
      "[ WARN:0@879.466] global cap_gstreamer.cpp:1173 isPipelinePlaying OpenCV | GStreamer warning: GStreamer: pipeline have not been created\n"
     ]
    },
    {
     "name": "stdout",
     "output_type": "stream",
     "text": [
      "Image captured successfully\n",
      "Slope 33 3 x 3\n",
      "Slope\n",
      "Recieved Moving Servo to ... 120\n",
      "Recieved Object detected!\n",
      "Lego Detected!\n"
     ]
    },
    {
     "name": "stderr",
     "output_type": "stream",
     "text": [
      "[ WARN:0@1027.818] global cap_gstreamer.cpp:2838 handleMessage OpenCV | GStreamer warning: Embedded video playback halted; module source reported: Could not read from resource.\n",
      "[ WARN:0@1027.819] global cap_gstreamer.cpp:1698 open OpenCV | GStreamer warning: unable to start pipeline\n",
      "[ WARN:0@1027.819] global cap_gstreamer.cpp:1173 isPipelinePlaying OpenCV | GStreamer warning: GStreamer: pipeline have not been created\n"
     ]
    },
    {
     "name": "stdout",
     "output_type": "stream",
     "text": [
      "Image captured successfully\n",
      "Slope 33 3 x 2\n",
      "Slope\n",
      "Recieved Moving Servo to ... 120\n",
      "Recieved Object detected!\n",
      "Lego Detected!\n"
     ]
    },
    {
     "name": "stderr",
     "output_type": "stream",
     "text": [
      "[ WARN:0@1045.361] global cap_gstreamer.cpp:2838 handleMessage OpenCV | GStreamer warning: Embedded video playback halted; module source reported: Could not read from resource.\n",
      "[ WARN:0@1045.362] global cap_gstreamer.cpp:1698 open OpenCV | GStreamer warning: unable to start pipeline\n",
      "[ WARN:0@1045.362] global cap_gstreamer.cpp:1173 isPipelinePlaying OpenCV | GStreamer warning: GStreamer: pipeline have not been created\n"
     ]
    },
    {
     "name": "stdout",
     "output_type": "stream",
     "text": [
      "Image captured successfully\n",
      "Brick 2 x 3\n",
      "Brick\n",
      "Recieved Moving Servo to ... 30\n",
      "Recieved Object detected!\n",
      "Lego Detected!\n"
     ]
    },
    {
     "name": "stderr",
     "output_type": "stream",
     "text": [
      "[ WARN:0@1061.399] global cap_gstreamer.cpp:2838 handleMessage OpenCV | GStreamer warning: Embedded video playback halted; module source reported: Could not read from resource.\n",
      "[ WARN:0@1061.400] global cap_gstreamer.cpp:1698 open OpenCV | GStreamer warning: unable to start pipeline\n",
      "[ WARN:0@1061.400] global cap_gstreamer.cpp:1173 isPipelinePlaying OpenCV | GStreamer warning: GStreamer: pipeline have not been created\n"
     ]
    },
    {
     "name": "stdout",
     "output_type": "stream",
     "text": [
      "Image captured successfully\n",
      "Tile 2 x 2 without Groove\n",
      "Tile\n",
      "Recieved Moving Servo to ... 105\n",
      "Recieved Object detected!\n",
      "Lego Detected!\n"
     ]
    },
    {
     "name": "stderr",
     "output_type": "stream",
     "text": [
      "[ WARN:0@1225.796] global cap_gstreamer.cpp:2838 handleMessage OpenCV | GStreamer warning: Embedded video playback halted; module source reported: Could not read from resource.\n",
      "[ WARN:0@1225.797] global cap_gstreamer.cpp:1698 open OpenCV | GStreamer warning: unable to start pipeline\n",
      "[ WARN:0@1225.797] global cap_gstreamer.cpp:1173 isPipelinePlaying OpenCV | GStreamer warning: GStreamer: pipeline have not been created\n"
     ]
    },
    {
     "name": "stdout",
     "output_type": "stream",
     "text": [
      "Image captured successfully\n",
      "Slope, Curved 3 x 2 x 2/3 with 2 Studs, Wing End\n",
      "Slope, Curved\n",
      "Recieved Moving Servo to ... 120\n",
      "Recieved Object detected!\n",
      "Lego Detected!\n"
     ]
    },
    {
     "name": "stderr",
     "output_type": "stream",
     "text": [
      "[ WARN:0@1238.824] global cap_gstreamer.cpp:2838 handleMessage OpenCV | GStreamer warning: Embedded video playback halted; module source reported: Could not read from resource.\n",
      "[ WARN:0@1238.825] global cap_gstreamer.cpp:1698 open OpenCV | GStreamer warning: unable to start pipeline\n",
      "[ WARN:0@1238.825] global cap_gstreamer.cpp:1173 isPipelinePlaying OpenCV | GStreamer warning: GStreamer: pipeline have not been created\n"
     ]
    },
    {
     "name": "stdout",
     "output_type": "stream",
     "text": [
      "Image captured successfully\n",
      "Bracket 1 x 2 - 1 x 2 Inverted\n",
      "Bracket\n",
      "Recieved Moving Servo to ... 105\n",
      "Recieved Object detected!\n",
      "Lego Detected!\n"
     ]
    },
    {
     "name": "stderr",
     "output_type": "stream",
     "text": [
      "[ WARN:0@1249.350] global cap_gstreamer.cpp:2838 handleMessage OpenCV | GStreamer warning: Embedded video playback halted; module source reported: Could not read from resource.\n",
      "[ WARN:0@1249.351] global cap_gstreamer.cpp:1698 open OpenCV | GStreamer warning: unable to start pipeline\n",
      "[ WARN:0@1249.351] global cap_gstreamer.cpp:1173 isPipelinePlaying OpenCV | GStreamer warning: GStreamer: pipeline have not been created\n"
     ]
    },
    {
     "name": "stdout",
     "output_type": "stream",
     "text": [
      "Image captured successfully\n",
      "Vehicle, Forklift 2 x 2 Plate and Yellow Fork\n",
      "Vehicle\n",
      "Recieved Moving Servo to ... 105\n",
      "Recieved Object detected!\n",
      "Lego Detected!\n"
     ]
    },
    {
     "name": "stderr",
     "output_type": "stream",
     "text": [
      "[ WARN:0@1263.386] global cap_gstreamer.cpp:2838 handleMessage OpenCV | GStreamer warning: Embedded video playback halted; module source reported: Could not read from resource.\n",
      "[ WARN:0@1263.387] global cap_gstreamer.cpp:1698 open OpenCV | GStreamer warning: unable to start pipeline\n",
      "[ WARN:0@1263.387] global cap_gstreamer.cpp:1173 isPipelinePlaying OpenCV | GStreamer warning: GStreamer: pipeline have not been created\n"
     ]
    },
    {
     "name": "stdout",
     "output_type": "stream",
     "text": [
      "Image captured successfully\n",
      "Brick 2 x 6\n",
      "Brick\n",
      "Recieved Moving Servo to ... 30\n",
      "Recieved Object detected!\n",
      "Lego Detected!\n"
     ]
    },
    {
     "name": "stderr",
     "output_type": "stream",
     "text": [
      "[ WARN:0@1277.918] global cap_gstreamer.cpp:2838 handleMessage OpenCV | GStreamer warning: Embedded video playback halted; module source reported: Could not read from resource.\n",
      "[ WARN:0@1277.919] global cap_gstreamer.cpp:1698 open OpenCV | GStreamer warning: unable to start pipeline\n",
      "[ WARN:0@1277.919] global cap_gstreamer.cpp:1173 isPipelinePlaying OpenCV | GStreamer warning: GStreamer: pipeline have not been created\n"
     ]
    },
    {
     "name": "stdout",
     "output_type": "stream",
     "text": [
      "Image captured successfully\n",
      "Plate 2 x 2\n",
      "Plate\n",
      "Recieved Moving Servo to ... 90\n",
      "Recieved Object detected!\n",
      "Lego Detected!\n"
     ]
    },
    {
     "name": "stderr",
     "output_type": "stream",
     "text": [
      "[ WARN:0@1286.441] global cap_gstreamer.cpp:2838 handleMessage OpenCV | GStreamer warning: Embedded video playback halted; module source reported: Could not read from resource.\n",
      "[ WARN:0@1286.442] global cap_gstreamer.cpp:1698 open OpenCV | GStreamer warning: unable to start pipeline\n",
      "[ WARN:0@1286.442] global cap_gstreamer.cpp:1173 isPipelinePlaying OpenCV | GStreamer warning: GStreamer: pipeline have not been created\n"
     ]
    },
    {
     "name": "stdout",
     "output_type": "stream",
     "text": [
      "Image captured successfully\n",
      "Wedge, Plate 4 x 2 Right\n",
      "Wedge, Plate\n",
      "Recieved Moving Servo to ... 105\n",
      "Recieved Object detected!\n",
      "Lego Detected!\n"
     ]
    },
    {
     "name": "stderr",
     "output_type": "stream",
     "text": [
      "[ WARN:0@1300.473] global cap_gstreamer.cpp:2838 handleMessage OpenCV | GStreamer warning: Embedded video playback halted; module source reported: Could not read from resource.\n",
      "[ WARN:0@1300.474] global cap_gstreamer.cpp:1698 open OpenCV | GStreamer warning: unable to start pipeline\n",
      "[ WARN:0@1300.474] global cap_gstreamer.cpp:1173 isPipelinePlaying OpenCV | GStreamer warning: GStreamer: pipeline have not been created\n"
     ]
    },
    {
     "name": "stdout",
     "output_type": "stream",
     "text": [
      "Image captured successfully\n",
      "Brick 2 x 3 without Cross Supports\n",
      "Brick\n",
      "Recieved Moving Servo to ... 30\n",
      "Recieved Object detected!\n",
      "Lego Detected!\n"
     ]
    },
    {
     "name": "stderr",
     "output_type": "stream",
     "text": [
      "[ WARN:0@1405.727] global cap_gstreamer.cpp:2838 handleMessage OpenCV | GStreamer warning: Embedded video playback halted; module source reported: Could not read from resource.\n",
      "[ WARN:0@1405.727] global cap_gstreamer.cpp:1698 open OpenCV | GStreamer warning: unable to start pipeline\n",
      "[ WARN:0@1405.728] global cap_gstreamer.cpp:1173 isPipelinePlaying OpenCV | GStreamer warning: GStreamer: pipeline have not been created\n"
     ]
    },
    {
     "name": "stdout",
     "output_type": "stream",
     "text": [
      "Image captured successfully\n",
      "Slope, Curved 2 x 1 x 2/3\n",
      "Slope, Curved\n",
      "Recieved Moving Servo to ... 120\n",
      "Recieved Object detected!\n",
      "Lego Detected!\n"
     ]
    },
    {
     "name": "stderr",
     "output_type": "stream",
     "text": [
      "[ WARN:0@1416.253] global cap_gstreamer.cpp:2838 handleMessage OpenCV | GStreamer warning: Embedded video playback halted; module source reported: Could not read from resource.\n",
      "[ WARN:0@1416.253] global cap_gstreamer.cpp:1698 open OpenCV | GStreamer warning: unable to start pipeline\n",
      "[ WARN:0@1416.253] global cap_gstreamer.cpp:1173 isPipelinePlaying OpenCV | GStreamer warning: GStreamer: pipeline have not been created\n"
     ]
    },
    {
     "name": "stdout",
     "output_type": "stream",
     "text": [
      "Image captured successfully\n",
      "Brick 2 x 2 x 3\n",
      "Brick\n",
      "Recieved Moving Servo to ... 30\n",
      "Recieved Object detected!\n",
      "Lego Detected!\n"
     ]
    },
    {
     "name": "stderr",
     "output_type": "stream",
     "text": [
      "[ WARN:0@1429.281] global cap_gstreamer.cpp:2838 handleMessage OpenCV | GStreamer warning: Embedded video playback halted; module source reported: Could not read from resource.\n",
      "[ WARN:0@1429.282] global cap_gstreamer.cpp:1698 open OpenCV | GStreamer warning: unable to start pipeline\n",
      "[ WARN:0@1429.282] global cap_gstreamer.cpp:1173 isPipelinePlaying OpenCV | GStreamer warning: GStreamer: pipeline have not been created\n"
     ]
    },
    {
     "name": "stdout",
     "output_type": "stream",
     "text": [
      "Image captured successfully\n",
      "Brick, Modified 1 x 2 with Pin\n",
      "Brick, Modified\n",
      "Recieved Moving Servo to ... 105\n",
      "Recieved Object detected!\n",
      "Lego Detected!\n"
     ]
    },
    {
     "name": "stderr",
     "output_type": "stream",
     "text": [
      "[ WARN:0@1436.301] global cap_gstreamer.cpp:2838 handleMessage OpenCV | GStreamer warning: Embedded video playback halted; module source reported: Could not read from resource.\n",
      "[ WARN:0@1436.302] global cap_gstreamer.cpp:1698 open OpenCV | GStreamer warning: unable to start pipeline\n",
      "[ WARN:0@1436.302] global cap_gstreamer.cpp:1173 isPipelinePlaying OpenCV | GStreamer warning: GStreamer: pipeline have not been created\n"
     ]
    },
    {
     "name": "stdout",
     "output_type": "stream",
     "text": [
      "Image captured successfully\n",
      "Brick, Modified 1 x 2 with Pin\n",
      "Brick, Modified\n",
      "Recieved Moving Servo to ... 105\n",
      "\n",
      "Program terminated\n",
      "Serial closed\n"
     ]
    }
   ],
   "source": [
    "\n",
    "ser = serial.Serial('/dev/ttyACM0', 9600)\n",
    "time.sleep(2)\n",
    "\n",
    "startText = input(\"Enter text to start machine\\n\")\n",
    "ser.write(startText.encode())\n",
    "\n",
    "try:\n",
    "    while True:\n",
    "                \n",
    "        while ser.in_waiting == 0:\n",
    "            pass\n",
    "    \n",
    "        data = ser.readline().decode().strip()\n",
    "        print(\"Recieved \" + data)\n",
    "           \n",
    "        if data == \"Object detected!\":\n",
    "            print(\"Lego Detected!\")\n",
    "            # Capture an image from the webcam\n",
    "            image = capture_image()\n",
    "     \n",
    "            # Process the image using the API\n",
    "            result = process_image(image)\n",
    "    \n",
    "            # Print the API response\n",
    "            first_item_name = result['items'][0]['name']\n",
    "            first_item_category = result['items'][0]['category']\n",
    "            print(first_item_name)\n",
    "            print(first_item_category)\n",
    "            send_name(first_item_name)\n",
    "            \n",
    "            now = datetime.datetime.now()\n",
    "            timestamp = now.strftime(\"%Y-%m-%d %H:%M:%S\")\n",
    "            # Open the log file in append mode\n",
    "            with open(\"Lego_Scan_Log.txt\", \"a\") as log_file:\n",
    "            # Write the new line to the log file\n",
    "                log_file.write(f\"Legos Scanned: {first_item_name} ({timestamp})\\n\")    \n",
    "\n",
    "except KeyboardInterrupt:\n",
    "    print(\"\\nProgram terminated\")\n",
    "\n",
    "finally:\n",
    "    ser.close()\n",
    "    print(\"Serial closed\")\n",
    "\n"
   ]
  },
  {
   "cell_type": "code",
   "execution_count": null,
   "id": "a41795f9-789c-4b9f-bd80-381eed84f8fc",
   "metadata": {},
   "outputs": [],
   "source": []
  }
 ],
 "metadata": {
  "kernelspec": {
   "display_name": "Python 3 (ipykernel)",
   "language": "python",
   "name": "python3"
  },
  "language_info": {
   "codemirror_mode": {
    "name": "ipython",
    "version": 3
   },
   "file_extension": ".py",
   "mimetype": "text/x-python",
   "name": "python",
   "nbconvert_exporter": "python",
   "pygments_lexer": "ipython3",
   "version": "3.11.8"
  }
 },
 "nbformat": 4,
 "nbformat_minor": 5
}
